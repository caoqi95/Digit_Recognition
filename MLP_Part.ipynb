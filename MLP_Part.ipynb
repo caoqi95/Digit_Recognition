{
 "cells": [
  {
   "cell_type": "markdown",
   "metadata": {},
   "source": [
    "### 0. Data Preprocessing "
   ]
  },
  {
   "cell_type": "code",
   "execution_count": null,
   "metadata": {},
   "outputs": [],
   "source": [
    "# Import libraries\n",
    "\n",
    "import numpy as np\n",
    "import time\n",
    "from glob import glob\n",
    "from os import listdir\n",
    "from keras.utils.np_utils import to_categorical\n",
    "from sklearn.neural_network import MLPClassifier"
   ]
  },
  {
   "cell_type": "code",
   "execution_count": 12,
   "metadata": {},
   "outputs": [],
   "source": [
    "# This function is used to get the whole dataset\n",
    "\n",
    "def GetDataSet():\n",
    "\n",
    "    # read raw data from .txt file\n",
    "    rawData = []\n",
    "    file = open('./data_digits.txt', 'r+', encoding='utf-8-sig')\n",
    "    for line in file:\n",
    "        line = line.strip('\\n') # delete '\\n'\n",
    "        rawData.append(line)\n",
    "    \n",
    "    # delete spaces in each row\n",
    "    data = rawData\n",
    "    DataList = []\n",
    "    for i in range(int(len(data)/24)):\n",
    "        new = []\n",
    "        for j in range(len(data[24*i:24*(i+1)])):\n",
    "            a = np.array(data[24*i:24*(i+1)])[j].replace(' ', '')\n",
    "            new.append(a)\n",
    "        DataList.append(new)\n",
    "        \n",
    "    # transform each (24,18) data into (432,) vector\n",
    "    item = []\n",
    "    for L in range(len(DataList)):\n",
    "        l = []\n",
    "        for i in DataList[L]:\n",
    "            for j in range(len(DataList[0][0])):\n",
    "                l.append(int(i[int(j)]))\n",
    "        item.append(l)\n",
    "    item = np.array(item)\n",
    "    \n",
    "    print(\"DataSet Shape: \", item.shape)\n",
    "    \n",
    "    return item"
   ]
  },
  {
   "cell_type": "code",
   "execution_count": 14,
   "metadata": {},
   "outputs": [
    {
     "name": "stdout",
     "output_type": "stream",
     "text": [
      "DataSet Shape:  (4200, 432)\n"
     ]
    }
   ],
   "source": [
    "# Load the dataset and set labels\n",
    "\n",
    "data_X = GetDataSet()\n",
    "labels = np.array([[i] * int(4200/10) for i in range(10)]).reshape(4200,)"
   ]
  },
  {
   "cell_type": "code",
   "execution_count": 15,
   "metadata": {},
   "outputs": [
    {
     "data": {
      "text/plain": [
       "(4200,)"
      ]
     },
     "execution_count": 15,
     "metadata": {},
     "output_type": "execute_result"
    }
   ],
   "source": [
    "labels.shape"
   ]
  },
  {
   "cell_type": "code",
   "execution_count": 16,
   "metadata": {},
   "outputs": [],
   "source": [
    "# Convert the labels to one-hot vectors\n",
    "\n",
    "ohlabels = to_categorical(labels, num_classes=10)"
   ]
  },
  {
   "cell_type": "code",
   "execution_count": 17,
   "metadata": {},
   "outputs": [
    {
     "data": {
      "text/plain": [
       "(4200, 10)"
      ]
     },
     "execution_count": 17,
     "metadata": {},
     "output_type": "execute_result"
    }
   ],
   "source": [
    "ohlabels.shape"
   ]
  },
  {
   "cell_type": "code",
   "execution_count": 18,
   "metadata": {},
   "outputs": [],
   "source": [
    "# Split the dataset\n",
    "\n",
    "from sklearn.model_selection import train_test_split\n",
    "X_train, X_test, y_train, y_test = train_test_split(data_X, ohlabels,\n",
    "                                        test_size=0.3, random_state=0)"
   ]
  },
  {
   "cell_type": "markdown",
   "metadata": {},
   "source": [
    "### 1. Use MLP for classification using 423-dimension data set"
   ]
  },
  {
   "cell_type": "code",
   "execution_count": 19,
   "metadata": {},
   "outputs": [],
   "source": [
    "# Build an MLP model \n",
    "\n",
    "# paremeters\n",
    "hidden_units = 150\n",
    "learning_rate = 0.001\n",
    "train_iter = 2000\n",
    "\n",
    "clf = MLPClassifier(hidden_layer_sizes=(hidden_units,100,200),\n",
    "                    activation='logistic', solver='adam',\n",
    "                    learning_rate_init = learning_rate, max_iter=train_iter)"
   ]
  },
  {
   "cell_type": "code",
   "execution_count": 20,
   "metadata": {},
   "outputs": [
    {
     "name": "stdout",
     "output_type": "stream",
     "text": [
      "It took 19.284208297729492 seconds to train the model.\n"
     ]
    }
   ],
   "source": [
    "t = time.time()\n",
    "\n",
    "# Train the model \n",
    "clf = clf.fit(X_train, y_train)\n",
    "\n",
    "print(\"It took\", time.time() - t, \"seconds to train the model.\")"
   ]
  },
  {
   "cell_type": "code",
   "execution_count": 21,
   "metadata": {},
   "outputs": [
    {
     "name": "stdout",
     "output_type": "stream",
     "text": [
      "Total num: 1260  Wrong num: 71   Accuracy: 0.9436507936507936\n"
     ]
    }
   ],
   "source": [
    "# Test the model \n",
    "\n",
    "res = clf.predict(X_test)   # predict on test data\n",
    "error_num = 0               # count for error numbers\n",
    "num = len(X_test)           \n",
    "for i in range(num):         \n",
    "    #比较长度为10的数组，返回包含01的数组，0为不同，1为相同\n",
    "    #若预测结果与真实结果相同，则10个数字全为1，否则不全为1\n",
    "    if np.sum(res[i] == y_test[i]) < 10: \n",
    "        error_num += 1                     \n",
    "print(\"Total num:\",num,\" Wrong num:\", \\\n",
    "      error_num,\"  Accuracy:\", 1 - error_num/num)"
   ]
  },
  {
   "cell_type": "markdown",
   "metadata": {},
   "source": []
  },
  {
   "cell_type": "code",
   "execution_count": null,
   "metadata": {},
   "outputs": [],
   "source": []
  }
 ],
 "metadata": {
  "kernelspec": {
   "display_name": "Python 3",
   "language": "python",
   "name": "python3"
  },
  "language_info": {
   "codemirror_mode": {
    "name": "ipython",
    "version": 3
   },
   "file_extension": ".py",
   "mimetype": "text/x-python",
   "name": "python",
   "nbconvert_exporter": "python",
   "pygments_lexer": "ipython3",
   "version": "3.6.5"
  }
 },
 "nbformat": 4,
 "nbformat_minor": 2
}
