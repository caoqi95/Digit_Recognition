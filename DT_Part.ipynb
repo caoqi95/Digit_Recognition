{
 "cells": [
  {
   "cell_type": "markdown",
   "metadata": {},
   "source": [
    "### 2-1. Apply the decision tree for classification using 423-dimension data set."
   ]
  },
  {
   "cell_type": "code",
   "execution_count": null,
   "metadata": {},
   "outputs": [],
   "source": [
    "# Import libraries\n",
    "\n",
    "import time\n",
    "import numpy as np\n",
    "import matplotlib.pyplot as plt\n",
    "from glob import glob\n",
    "from os import listdir\n",
    "from sklearn import tree\n",
    "from sklearn.metrics import accuracy_score\n",
    "from sklearn.model_selection import train_test_split\n",
    "from keras.utils.np_utils import to_categorical\n",
    "from sklearn.neural_network import MLPClassifier"
   ]
  },
  {
   "cell_type": "code",
   "execution_count": 3,
   "metadata": {},
   "outputs": [],
   "source": [
    "# This function is used to transform one file's data into a vector\n",
    "\n",
    "def file2vector(fileName):\n",
    "    f = open(fileName)\n",
    "    lines = f.read()\n",
    "    nums = []\n",
    "    for i in range(len(lines)):\n",
    "        if lines[i] == '0' or lines[i] == '1':\n",
    "            nums.append(lines[i])   \n",
    "            \n",
    "    return np.array(list(map(float,nums)))"
   ]
  },
  {
   "cell_type": "code",
   "execution_count": 4,
   "metadata": {},
   "outputs": [],
   "source": [
    "# This function is used to transform one class's data into a matrix\n",
    "\n",
    "def files2matrix(path):\n",
    "    fileList = listdir(path)\n",
    "    mat = []\n",
    "    for i in range(len(fileList)):\n",
    "        vector = file2vector(path + '/' + fileList[i])\n",
    "        mat.append(vector)\n",
    "    \n",
    "    return np.array(mat)"
   ]
  },
  {
   "cell_type": "code",
   "execution_count": 5,
   "metadata": {},
   "outputs": [],
   "source": [
    "# This function is used to get the whole dataset\n",
    "\n",
    "def GetDataSet():\n",
    "    paths = listdir('./data')\n",
    "    data = []\n",
    "    for i in range(len(paths)):\n",
    "        path = './data' +'/' + paths[i]\n",
    "        data.append(files2matrix(path))\n",
    "\n",
    "    return np.array(data).reshape(4200,432)"
   ]
  },
  {
   "cell_type": "code",
   "execution_count": 6,
   "metadata": {},
   "outputs": [],
   "source": [
    "# Load the dataset and set labels\n",
    "data_X = GetDataSet()\n",
    "labels = np.array([[i] * int(4200/10) for i in range(10)]).reshape(4200,)\n",
    "labels_names = np.array(['0','1','2','3','4','5','6','7','8','9'])"
   ]
  },
  {
   "cell_type": "code",
   "execution_count": 7,
   "metadata": {},
   "outputs": [],
   "source": [
    "# Split the dataset\n",
    "\n",
    "X_train, X_test, y_train, y_test = train_test_split(data_X, labels, \n",
    "                                        test_size=0.3, random_state=0)"
   ]
  },
  {
   "cell_type": "code",
   "execution_count": 8,
   "metadata": {},
   "outputs": [
    {
     "data": {
      "image/png": "[encoded data removed]",
      "text/plain": [
       "<Figure size 432x288 with 3 Axes>"
      ]
     },
     "metadata": {},
     "output_type": "display_data"
    }
   ],
   "source": [
    "X = X_train.reshape(X_train.shape[0], 24,18)\n",
    "\n",
    "# data visualization\n",
    "for i in range(6,9):\n",
    "    plt.subplot(330+(i+1))\n",
    "    plt.imshow(X[i], cmap=plt.get_cmap('gray'))\n",
    "    plt.title(\"class:\" + str(y_train[i]))"
   ]
  },
  {
   "cell_type": "code",
   "execution_count": 9,
   "metadata": {},
   "outputs": [],
   "source": [
    "# Build a Drecision Tree model\n",
    "\n",
    "clf_dt = tree.DecisionTreeClassifier(criterion='gini', \n",
    "                                     random_state = 0,max_depth=None)"
   ]
  },
  {
   "cell_type": "code",
   "execution_count": 10,
   "metadata": {},
   "outputs": [],
   "source": [
    "# Train the model\n",
    "\n",
    "clf_dt = clf_dt.fit(X_train, y_train)"
   ]
  },
  {
   "cell_type": "code",
   "execution_count": 11,
   "metadata": {},
   "outputs": [
    {
     "data": {
      "text/plain": [
       "'dt.pdf'"
      ]
     },
     "execution_count": 11,
     "metadata": {},
     "output_type": "execute_result"
    }
   ],
   "source": [
    "# Export a graph of Decision Tree\n",
    "\n",
    "import graphviz\n",
    "dot_data = tree.export_graphviz(clf_dt, out_file=None, \n",
    "                            class_names = labels_names,node_ids=True,\n",
    "                            filled=True, rounded=True,  \n",
    "                            special_characters=True)\n",
    "graph = graphviz.Source(dot_data)\n",
    "graph.render('dt') # save as a pdf file"
   ]
  },
  {
   "cell_type": "code",
   "execution_count": 12,
   "metadata": {},
   "outputs": [
    {
     "name": "stdout",
     "output_type": "stream",
     "text": [
      "Total num: 1260  Wrong num: 245   Accuracy: 0.8055555555555556\n"
     ]
    }
   ],
   "source": [
    "# Test the model \n",
    "\n",
    "# predict on test data\n",
    "res_dt = clf_dt.predict(X_test) \n",
    "\n",
    "# count for error numbers\n",
    "error_num = 0         \n",
    "\n",
    "num = len(X_test)           \n",
    "for i in range(num):         \n",
    "    if np.sum(res_dt[i] != y_test[i]): \n",
    "        error_num += 1                     \n",
    "print(\"Total num:\",num,\" Wrong num:\", \\\n",
    "      error_num,\"  Accuracy:\", accuracy_score(y_test, res_dt))"
   ]
  },
  {
   "cell_type": "markdown",
   "metadata": {},
   "source": [
    "### 2-2. Select the features which appears in the decision tree nodes "
   ]
  },
  {
   "cell_type": "code",
   "execution_count": 13,
   "metadata": {},
   "outputs": [],
   "source": [
    "# Get the data of features and labels\n",
    "\n",
    "f = open('dt')\n",
    "l = f.readlines()\n",
    "class_list = []\n",
    "for i in range(len(l)):\n",
    "    if \"class\" in l[i]:\n",
    "        class_list.append(l[i])"
   ]
  },
  {
   "cell_type": "code",
   "execution_count": 17,
   "metadata": {},
   "outputs": [],
   "source": [
    "def GetNodeFeature():\n",
    "    \n",
    "    feature_list = []\n",
    "    for i in range(len(class_list)):\n",
    "        c = class_list[i].split(' = ')[3].split('<br/>')[0].strip('[]').split(',')\n",
    "        nums=[]\n",
    "        for s in c :\n",
    "            nums.append(int(s))\n",
    "        feature_list.append(nums)\n",
    "        \n",
    "    return np.array(feature_list)"
   ]
  },
  {
   "cell_type": "code",
   "execution_count": 15,
   "metadata": {},
   "outputs": [
    {
     "data": {
      "text/plain": [
       "(6, 10)"
      ]
     },
     "execution_count": 15,
     "metadata": {},
     "output_type": "execute_result"
    }
   ],
   "source": [
    "feature_list = []\n",
    "for i in range(len(class_list[10:16])):\n",
    "    c = class_list[i].split(' = ')[3].split('<br/>')[0].strip('[]').split(',')\n",
    "    nums=[]\n",
    "    for s in c :\n",
    "        nums.append(int(s))\n",
    "    feature_list.append(nums)\n",
    "np.array(feature_list).shape"
   ]
  },
  {
   "cell_type": "code",
   "execution_count": 18,
   "metadata": {},
   "outputs": [
    {
     "data": {
      "text/plain": [
       "(731, 10)"
      ]
     },
     "execution_count": 18,
     "metadata": {},
     "output_type": "execute_result"
    }
   ],
   "source": [
    "# Get features from Decision Tree Nodes\n",
    "\n",
    "features = GetNodeFeature()\n",
    "features.shape"
   ]
  },
  {
   "cell_type": "code",
   "execution_count": 20,
   "metadata": {},
   "outputs": [],
   "source": [
    "def GetNodeLabel():\n",
    "    node_labels = []\n",
    "    for i in range(len(class_list)):\n",
    "        label = int(class_list[i].split('class')[1][3])\n",
    "        node_labels.append(label)\n",
    "        \n",
    "    return np.array(node_labels)"
   ]
  },
  {
   "cell_type": "code",
   "execution_count": 21,
   "metadata": {},
   "outputs": [
    {
     "data": {
      "text/plain": [
       "(731,)"
      ]
     },
     "execution_count": 21,
     "metadata": {},
     "output_type": "execute_result"
    }
   ],
   "source": [
    "# Get labels from Decision Tree Nodes\n",
    "\n",
    "node_labels = GetNodeLabel()\n",
    "node_labels.shape"
   ]
  },
  {
   "cell_type": "code",
   "execution_count": 22,
   "metadata": {},
   "outputs": [],
   "source": [
    "x = features\n",
    "y = to_categorical(node_labels, num_classes=10)\n",
    "\n",
    "train_data, test_data, train_label, test_label = train_test_split(x, y,\n",
    "                                         test_size=0.3, random_state=0)"
   ]
  },
  {
   "cell_type": "code",
   "execution_count": 23,
   "metadata": {},
   "outputs": [
    {
     "data": {
      "image/png": "[encoded data removed]",
      "text/plain": [
       "<Figure size 432x288 with 3 Axes>"
      ]
     },
     "metadata": {},
     "output_type": "display_data"
    }
   ],
   "source": [
    "x_new = x.reshape(x.shape[0], 10,1)\n",
    "\n",
    "# data visualization\n",
    "for i in range(11,14):\n",
    "    plt.subplot(330+(i+4))\n",
    "    plt.imshow(x_new[i], cmap=plt.get_cmap('gray'))\n",
    "    plt.title(\"class:\" + str(node_labels[i]))"
   ]
  },
  {
   "cell_type": "markdown",
   "metadata": {},
   "source": [
    "### 2-3. Use the new data set which from 2-2 for classification with MLP"
   ]
  },
  {
   "cell_type": "code",
   "execution_count": 32,
   "metadata": {},
   "outputs": [],
   "source": [
    "# Build the MLP model\n",
    "\n",
    "# paremeters\n",
    "hidden_units = 50\n",
    "learning_rate = 0.001\n",
    "train_iter = 2000\n",
    "\n",
    "clf_mlp = MLPClassifier(hidden_layer_sizes=(hidden_units,),\n",
    "                    activation='logistic', solver='adam',\n",
    "                    learning_rate_init = learning_rate, max_iter=train_iter)"
   ]
  },
  {
   "cell_type": "code",
   "execution_count": 25,
   "metadata": {},
   "outputs": [
    {
     "name": "stdout",
     "output_type": "stream",
     "text": [
      "It took 3.3678858280181885 seconds to train the model.\n"
     ]
    }
   ],
   "source": [
    "t = time.time()\n",
    "\n",
    "# Train the model \n",
    "clf_mlp = clf_mlp.fit(train_data, train_label)\n",
    "\n",
    "print(\"It took\", time.time() - t, \"seconds to train the model.\")"
   ]
  },
  {
   "cell_type": "code",
   "execution_count": 26,
   "metadata": {},
   "outputs": [
    {
     "name": "stdout",
     "output_type": "stream",
     "text": [
      "Total num: 220  Wrong num: 8   Accuracy: 0.9636363636363636\n"
     ]
    }
   ],
   "source": [
    "# Test the model \n",
    "\n",
    "res_mlp = clf_mlp.predict(test_data)   # predict on test data\n",
    "error_num = 0               # count for error numbers\n",
    "num = len(test_data)           \n",
    "for i in range(num):         \n",
    "    if np.sum(res_mlp[i] == test_label[i]) < 10: \n",
    "        error_num += 1                     \n",
    "print(\"Total num:\",num,\" Wrong num:\", \\\n",
    "      error_num,\"  Accuracy:\", 1 - error_num/num)"
   ]
  },
  {
   "cell_type": "code",
   "execution_count": 45,
   "metadata": {},
   "outputs": [
    {
     "name": "stderr",
     "output_type": "stream",
     "text": [
      "D:\\Anaconda3\\lib\\site-packages\\sklearn\\neural_network\\multilayer_perceptron.py:564: ConvergenceWarning: Stochastic Optimizer: Maximum iterations (2000) reached and the optimization hasn't converged yet.\n",
      "  % self.max_iter, ConvergenceWarning)\n",
      "D:\\Anaconda3\\lib\\site-packages\\sklearn\\neural_network\\multilayer_perceptron.py:564: ConvergenceWarning: Stochastic Optimizer: Maximum iterations (2000) reached and the optimization hasn't converged yet.\n",
      "  % self.max_iter, ConvergenceWarning)\n",
      "D:\\Anaconda3\\lib\\site-packages\\sklearn\\neural_network\\multilayer_perceptron.py:564: ConvergenceWarning: Stochastic Optimizer: Maximum iterations (2000) reached and the optimization hasn't converged yet.\n",
      "  % self.max_iter, ConvergenceWarning)\n",
      "D:\\Anaconda3\\lib\\site-packages\\sklearn\\neural_network\\multilayer_perceptron.py:564: ConvergenceWarning: Stochastic Optimizer: Maximum iterations (2000) reached and the optimization hasn't converged yet.\n",
      "  % self.max_iter, ConvergenceWarning)\n",
      "D:\\Anaconda3\\lib\\site-packages\\sklearn\\neural_network\\multilayer_perceptron.py:564: ConvergenceWarning: Stochastic Optimizer: Maximum iterations (2000) reached and the optimization hasn't converged yet.\n",
      "  % self.max_iter, ConvergenceWarning)\n"
     ]
    },
    {
     "name": "stdout",
     "output_type": "stream",
     "text": [
      "Optimal learning rate : 0.0016102620275609393\n"
     ]
    }
   ],
   "source": [
    "# Find the optim learning rate\n",
    "\n",
    "lrs = np.logspace(-4, 1, 30)\n",
    "enet = MLPClassifier(hidden_layer_sizes=(hidden_units,),\n",
    "                    activation='logistic', solver='adam', max_iter=2000)\n",
    "train_errors = list()\n",
    "test_errors = list()\n",
    "for lr in lrs:\n",
    "    enet.set_params(learning_rate_init=lr)\n",
    "    enet.fit(train_data, train_label)\n",
    "    train_errors.append(enet.score(train_data, train_label))\n",
    "    test_errors.append(enet.score(test_data, test_label))\n",
    "\n",
    "i_lr_optim = np.argmax(test_errors)\n",
    "lr_optim = lrs[i_lr_optim]\n",
    "print(\"Optimal learning rate : %s\" % lr_optim)"
   ]
  },
  {
   "cell_type": "code",
   "execution_count": 47,
   "metadata": {},
   "outputs": [
    {
     "data": {
      "text/plain": [
       "(0, 1.1)"
      ]
     },
     "execution_count": 47,
     "metadata": {},
     "output_type": "execute_result"
    },
    {
     "data": {
      "image/png": "[encoded data removed]",
      "text/plain": [
       "<Figure size 432x288 with 1 Axes>"
      ]
     },
     "metadata": {},
     "output_type": "display_data"
    }
   ],
   "source": [
    "# Plot results for learning rate\n",
    "\n",
    "import matplotlib.pyplot as plt\n",
    "plt.subplot(2, 1, 1)\n",
    "plt.semilogx(lrs, train_errors, label='Train')\n",
    "plt.semilogx(lrs, test_errors, label='Test')\n",
    "plt.vlines(lr_optim, plt.ylim()[0], np.max(test_errors), color='k',\n",
    "           linewidth=3, label='Optimum on test')\n",
    "plt.legend(loc='lower left')\n",
    "plt.ylim([0, 1.1])"
   ]
  },
  {
   "cell_type": "code",
   "execution_count": 62,
   "metadata": {},
   "outputs": [
    {
     "name": "stderr",
     "output_type": "stream",
     "text": [
      "D:\\Anaconda3\\lib\\site-packages\\sklearn\\neural_network\\multilayer_perceptron.py:564: ConvergenceWarning: Stochastic Optimizer: Maximum iterations (665) reached and the optimization hasn't converged yet.\n",
      "  % self.max_iter, ConvergenceWarning)\n",
      "D:\\Anaconda3\\lib\\site-packages\\sklearn\\neural_network\\multilayer_perceptron.py:564: ConvergenceWarning: Stochastic Optimizer: Maximum iterations (1168) reached and the optimization hasn't converged yet.\n",
      "  % self.max_iter, ConvergenceWarning)\n",
      "D:\\Anaconda3\\lib\\site-packages\\sklearn\\neural_network\\multilayer_perceptron.py:564: ConvergenceWarning: Stochastic Optimizer: Maximum iterations (1221) reached and the optimization hasn't converged yet.\n",
      "  % self.max_iter, ConvergenceWarning)\n",
      "D:\\Anaconda3\\lib\\site-packages\\sklearn\\neural_network\\multilayer_perceptron.py:564: ConvergenceWarning: Stochastic Optimizer: Maximum iterations (1462) reached and the optimization hasn't converged yet.\n",
      "  % self.max_iter, ConvergenceWarning)\n",
      "D:\\Anaconda3\\lib\\site-packages\\sklearn\\neural_network\\multilayer_perceptron.py:564: ConvergenceWarning: Stochastic Optimizer: Maximum iterations (1398) reached and the optimization hasn't converged yet.\n",
      "  % self.max_iter, ConvergenceWarning)\n"
     ]
    },
    {
     "name": "stdout",
     "output_type": "stream",
     "text": [
      "Optimal learning rate : 1398\n"
     ]
    },
    {
     "name": "stderr",
     "output_type": "stream",
     "text": [
      "D:\\Anaconda3\\lib\\site-packages\\sklearn\\neural_network\\multilayer_perceptron.py:564: ConvergenceWarning: Stochastic Optimizer: Maximum iterations (1297) reached and the optimization hasn't converged yet.\n",
      "  % self.max_iter, ConvergenceWarning)\n"
     ]
    }
   ],
   "source": [
    "# Find the optim iteration\n",
    "\n",
    "iteras = np.random.randint(500, 5000, 30)\n",
    "enet = MLPClassifier(hidden_layer_sizes=(hidden_units,),learning_rate_init=0.001,\n",
    "                    activation='logistic', solver='adam')\n",
    "train_errors = list()\n",
    "test_errors = list()\n",
    "for itera in iteras:\n",
    "    enet.set_params(max_iter=itera)\n",
    "    enet.fit(train_data, train_label)\n",
    "    train_errors.append(enet.score(train_data, train_label))\n",
    "    test_errors.append(enet.score(test_data, test_label))\n",
    "\n",
    "i_itera_optim = np.argmax(test_errors)\n",
    "itera_optim = iteras[i_itera_optim]\n",
    "print(\"Optimal iterations : %s\" % itera_optim)"
   ]
  },
  {
   "cell_type": "code",
   "execution_count": 65,
   "metadata": {},
   "outputs": [
    {
     "data": {
      "text/plain": [
       "(0, 1.1)"
      ]
     },
     "execution_count": 65,
     "metadata": {},
     "output_type": "execute_result"
    },
    {
     "data": {
      "image/png": "[encoded data removed]",
      "text/plain": [
       "<Figure size 432x288 with 1 Axes>"
      ]
     },
     "metadata": {},
     "output_type": "display_data"
    }
   ],
   "source": [
    "# Plot results for iteration\n",
    "\n",
    "import matplotlib.pyplot as plt\n",
    "#plt.subplot(2, 1, 1)\n",
    "plt.semilogx(iteras, train_errors, label='Train')\n",
    "plt.semilogx(iteras, test_errors, label='Test')\n",
    "plt.vlines(itera_optim, plt.ylim()[0], np.max(test_errors), color='k',\n",
    "           linewidth=3, label='Optimum on test')\n",
    "plt.legend(loc='lower left')\n",
    "plt.ylim([0, 1.1])"
   ]
  },
  {
   "cell_type": "code",
   "execution_count": 66,
   "metadata": {},
   "outputs": [
    {
     "name": "stdout",
     "output_type": "stream",
     "text": [
      "Optimal hidden units : 132\n"
     ]
    }
   ],
   "source": [
    "# Find the optim hidden units\n",
    "\n",
    "hus = np.random.randint(50, 500, 50)\n",
    "enet = MLPClassifier(hidden_layer_sizes=(100,),learning_rate_init=0.001,\n",
    "                    activation='logistic', solver='adam', max_iter=1500)\n",
    "train_errors = list()\n",
    "test_errors = list()\n",
    "for hu in hus:\n",
    "    enet.set_params(hidden_layer_sizes=(hu,))\n",
    "    enet.fit(train_data, train_label)\n",
    "    train_errors.append(enet.score(train_data, train_label))\n",
    "    test_errors.append(enet.score(test_data, test_label))\n",
    "\n",
    "i_hu_optim = np.argmax(test_errors)\n",
    "hu_optim = hus[i_hu_optim]\n",
    "print(\"Optimal hidden units : %s\" % hu_optim)"
   ]
  },
  {
   "cell_type": "code",
   "execution_count": 68,
   "metadata": {},
   "outputs": [
    {
     "data": {
      "text/plain": [
       "(0, 1.1)"
      ]
     },
     "execution_count": 68,
     "metadata": {},
     "output_type": "execute_result"
    },
    {
     "data": {
      "image/png": "[encoded data removed]",
      "text/plain": [
       "<Figure size 432x288 with 1 Axes>"
      ]
     },
     "metadata": {},
     "output_type": "display_data"
    }
   ],
   "source": [
    "# Plot results for hidden units\n",
    "\n",
    "import matplotlib.pyplot as plt\n",
    "#plt.subplot(2, 1, 1)\n",
    "plt.semilogx(hus, train_errors, label='Train')\n",
    "plt.semilogx(hus, test_errors, label='Test')\n",
    "plt.vlines(hu_optim, plt.ylim()[0], np.max(test_errors), color='k',\n",
    "           linewidth=3, label='Optimum on test')\n",
    "plt.legend(loc='lower left')\n",
    "plt.ylim([0, 1.1])"
   ]
  },
  {
   "cell_type": "code",
   "execution_count": null,
   "metadata": {},
   "outputs": [],
   "source": []
  }
 ],
 "metadata": {
  "kernelspec": {
   "display_name": "Python 3",
   "language": "python",
   "name": "python3"
  },
  "language_info": {
   "codemirror_mode": {
    "name": "ipython",
    "version": 3
   },
   "file_extension": ".py",
   "mimetype": "text/x-python",
   "name": "python",
   "nbconvert_exporter": "python",
   "pygments_lexer": "ipython3",
   "version": "3.6.5"
  }
 },
 "nbformat": 4,
 "nbformat_minor": 2
}
